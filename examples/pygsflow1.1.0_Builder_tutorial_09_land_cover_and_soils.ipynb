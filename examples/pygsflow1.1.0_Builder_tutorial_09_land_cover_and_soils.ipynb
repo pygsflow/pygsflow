{
 "cells": [
  {
   "cell_type": "markdown",
   "metadata": {},
   "source": [
    "# Builder Tutorial number 9\n",
    "\n",
    "The builder tutorials demonstrate how to build an operational GSFLOW model using `pyGSFLOW` from shapefile, DEM, and other common data sources. These tutorials focus on the `gsflow.builder` classes.\n",
    "\n",
    "## Working with land cover and soil raster data\n",
    "\n",
    "In this tutorial, we give an overview of how to translate land cover and soils raster data to PRMS parameters. The methods outlined here, use the raster resampling methods outlined in `Builder_tutorial_2`, pyGSFLOW built in builder utilities, and user generated look up tables (remap files) to convert raw data into PRMS parameter values."
   ]
  },
  {
   "cell_type": "code",
   "execution_count": 1,
   "metadata": {},
   "outputs": [],
   "source": [
    "import os\n",
    "import utm\n",
    "import shapefile\n",
    "import matplotlib.pyplot as plt\n",
    "import matplotlib.colors as mcolors\n",
    "import numpy as np\n",
    "import flopy\n",
    "from gsflow.builder import GenerateFishnet, FlowAccumulation\n",
    "import gsflow"
   ]
  },
  {
   "cell_type": "markdown",
   "metadata": {},
   "source": [
    "## Applying the methods to the Sagehen 50m example problem\n",
    "\n",
    "In this example the methods are applied directly to the Sagehen 50m model as they are presented.\n"
   ]
  },
  {
   "cell_type": "markdown",
   "metadata": {},
   "source": [
    "Let's start by loading the Modflow model, PRMS parameter file, and the flow direction array that was produced in earlier builder tutorials"
   ]
  },
  {
   "cell_type": "code",
   "execution_count": 2,
   "metadata": {},
   "outputs": [],
   "source": [
    "# define the input and output data paths\n",
    "input_ws = os.path.join(\"data\", \"sagehen\", \"50m_tutorials\")\n",
    "geospatial_ws = os.path.join(\"data\", \"geospatial\")\n",
    "output_ws = os.path.join(\"data\", \"temp\")\n",
    "\n",
    "# Set modflow model and the prms parameter file paths\n",
    "modflow_nam = \"sagehen_50m.nam\"\n",
    "parameter_file = os.path.join(input_ws, \"sagehen_50m_initial.param\")\n",
    "\n",
    "# set the flow direction array path\n",
    "fdir_file = os.path.join(input_ws, \"sagehen_50m_flowdir.txt\")"
   ]
  },
  {
   "cell_type": "markdown",
   "metadata": {},
   "source": [
    "Load the Modflow model, PRMS parameter file, and flow direction array"
   ]
  },
  {
   "cell_type": "code",
   "execution_count": 3,
   "metadata": {},
   "outputs": [
    {
     "name": "stdout",
     "output_type": "stream",
     "text": [
      "   loading iuzfbnd array...\n",
      "   loading irunbnd array...\n",
      "   loading vks array...\n",
      "   loading eps array...\n",
      "   loading thts array...\n",
      "stress period 1:\n",
      "   loading finf array...\n",
      "stress period 2:\n",
      "------------------------------------\n",
      "Reading parameter file : sagehen_50m_initial.param\n",
      "------------------------------------\n",
      "Warning: ndays data type will be infered from data supplied\n",
      "Warning: ndepl data type will be infered from data supplied\n",
      "Warning: nlake data type will be infered from data supplied\n",
      "Warning: nmonths data type will be infered from data supplied\n",
      "Warning: nrain data type will be infered from data supplied\n",
      "Warning: ntemp data type will be infered from data supplied\n",
      "Warning: one data type will be infered from data supplied\n",
      "Warning: nsegment data type will be infered from data supplied\n",
      "Warning: nreach data type will be infered from data supplied\n",
      "Warning: ngw data type will be infered from data supplied\n",
      "Warning: ngwcell data type will be infered from data supplied\n",
      "Warning: nhru data type will be infered from data supplied\n",
      "Warning: nhrucell data type will be infered from data supplied\n",
      "Warning: nssr data type will be infered from data supplied\n",
      "Warning: ncascade data type will be infered from data supplied\n",
      "Warning: ncascdgw data type will be infered from data supplied\n",
      "Warning: ndeplval data type will be infered from data supplied\n",
      "Warning: nsub data type will be infered from data supplied\n",
      "214270.0 4366610.0\n"
     ]
    }
   ],
   "source": [
    "ml = gsflow.modflow.Modflow.load(modflow_nam, model_ws=input_ws)\n",
    "parameters = gsflow.prms.PrmsParameters.load_from_file(parameter_file)\n",
    "\n",
    "# check the modelgrid coordinate information to make sure it loaded properly\n",
    "print(ml.modelgrid.xoffset, ml.modelgrid.yoffset)\n",
    "\n",
    "# load the flow direction array\n",
    "flow_directions = np.genfromtxt(fdir_file)"
   ]
  },
  {
   "cell_type": "markdown",
   "metadata": {},
   "source": [
    "### Load and resample raster data\n",
    "\n",
    "Loading and resampling of raster data is performed using the Raster resampling methods outlined in Builder tutorial 2. Because this is a computationally intensive process, code is provided for completeness, however the default behavior of this notebook is to skip this step and load the saved ASCII versions. Change `resample_rasters=False` to `resample_rasters=True` to run the raster sampling."
   ]
  },
  {
   "cell_type": "code",
   "execution_count": 4,
   "metadata": {},
   "outputs": [],
   "source": [
    "resample_rasters = False"
   ]
  },
  {
   "cell_type": "markdown",
   "metadata": {},
   "source": [
    "Raster data for the sagehen 50m model was octained from National Land Cover Database impervious cover data layer (NLCD, 2016), SSURGO 1:24000 inventory of soil and non-soil layers (USDA, 2021), and Landfile existing vegetation layers (Landfile, 2016).\n",
    "\n",
    "Define the paths to the raster data"
   ]
  },
  {
   "cell_type": "code",
   "execution_count": 5,
   "metadata": {},
   "outputs": [],
   "source": [
    "# NLCD impervious land cover\n",
    "impervious_raster = os.path.join(geospatial_ws, \"nlcd2011_imp_utm.img\")\n",
    "\n",
    "# ssurgo soil raster data\n",
    "awc_raster = os.path.join(geospatial_ws, \"awc.img\")\n",
    "clay_raster = os.path.join(geospatial_ws, \"clay.img\")\n",
    "sand_raster = os.path.join(geospatial_ws, \"sand.img\")\n",
    "ksat_raster = os.path.join(geospatial_ws, \"ksat.img\")\n",
    "\n",
    "# Landfile vegetation type and cover raster data\n",
    "veg_type_raster = os.path.join(geospatial_ws, \"us_140evt_utm.img\")\n",
    "veg_cov_raster = os.path.join(geospatial_ws, \"us_140evc_utm.img\")"
   ]
  },
  {
   "cell_type": "markdown",
   "metadata": {},
   "source": [
    "#### resampling rasters\n",
    "\n",
    "For a more complete explanation of raster resampling see Builder tutorial 2.\n",
    "\n",
    "Note by default this notebook does not resample the rasters, code is included for completeness."
   ]
  },
  {
   "cell_type": "code",
   "execution_count": 6,
   "metadata": {},
   "outputs": [],
   "source": [
    "# resample impervious land cover raster\n",
    "if resample_rasters:\n",
    "    rs_file = os.path.join(output_ws, \"impervious_50m.txt\")\n",
    "    raster = flopy.utils.Raster.load(impervious_raster)\n",
    "    impervious = raster.resample_to_grid(\n",
    "            ml.modelgrid,\n",
    "            band=raster.bands[0],\n",
    "            method=\"median\",\n",
    "            multithread=True,\n",
    "            thread_pool=12\n",
    "        )\n",
    "    impervious[ml.modelgrid.idomain[0] == 0] = 0\n",
    "    impervious /= 100\n",
    "    np.savetxt(rs_file, impervious)"
   ]
  },
  {
   "cell_type": "code",
   "execution_count": 7,
   "metadata": {},
   "outputs": [],
   "source": [
    "# resample SSURGO soil raster data\n",
    "if resample_rasters:\n",
    "    # create a loop to reduce code and clutter\n",
    "    rs_files = [\n",
    "        os.path.join(output_ws, \"awc_50m.txt\"), \n",
    "        os.path.join(output_ws, \"clay_50m.txt\"),\n",
    "        os.path.join(output_ws, \"sand_50m.txt\"),\n",
    "        os.path.join(output_ws, \"ksat_50m.txt\")\n",
    "    ]\n",
    "    \n",
    "    ssurgo_rasters = [\n",
    "        awc_raster,\n",
    "        clay_raster,\n",
    "        sand_raster,\n",
    "        ksat_raster\n",
    "    ]\n",
    "    \n",
    "    for ix, raster_file in enumerate(ssurgo_rasters):\n",
    "        print(\"Resampling: {}\".format(os.path.split(raster_file)[-1]))\n",
    "        rs_file = rs_files[ix]\n",
    "        raster = flopy.utils.Raster.load(raster_file)\n",
    "        array = raster.resample_to_grid(\n",
    "            ml.modelgrid,\n",
    "            band=raster.bands[0],\n",
    "            method=\"median\",\n",
    "            multithread=True,\n",
    "            thread_pool=12\n",
    "        )\n",
    "        array[ml.modelgrid.idomain[0] == 0] = 0\n",
    "        array[array == raster.nodatavals[0]] = np.nanmedian(array)\n",
    "        if \"sand\" in raster_file or \"clay\" in raster_file:\n",
    "            array /= 100\n",
    "        \n",
    "        np.savetxt(rs_file, array)"
   ]
  },
  {
   "cell_type": "code",
   "execution_count": 8,
   "metadata": {},
   "outputs": [],
   "source": [
    "# resample Landfire vegetative type and cover\n",
    "if resample_rasters:\n",
    "    # create a loop to reduce code and clutter\n",
    "    rs_files = [\n",
    "        os.path.join(output_ws, \"veg_type_50m.txt\"), \n",
    "        os.path.join(output_ws, \"veg_cov_50m.txt\"),\n",
    "    ]\n",
    "    \n",
    "    landfire_rasters = [\n",
    "        veg_type_raster,\n",
    "        veg_cov_raster,\n",
    "    ]\n",
    "    \n",
    "    for ix, raster_file in enumerate(landfire_rasters):\n",
    "        print(\"Resampling: {}\".format(os.path.split(raster_file)[-1]))\n",
    "        rs_file = rs_files[ix]\n",
    "        raster = flopy.utils.Raster.load(raster_file)\n",
    "        array = raster.resample_to_grid(\n",
    "            ml.modelgrid,\n",
    "            band=raster.bands[0],\n",
    "            method=\"nearest\",\n",
    "            multithread=True,\n",
    "            thread_pool=12\n",
    "        )\n",
    "        array[ml.modelgrid.idomain[0] == 0] = 0\n",
    "        array = array.astype(int)\n",
    "        np.savetxt(rs_file, array, fmt=\"%d\")"
   ]
  },
  {
   "cell_type": "markdown",
   "metadata": {},
   "source": [
    "### Loading the resampled raster data\n",
    "\n",
    "Resampled raster data are saved as delimited ascii files and can be easily loaded into numpy arrays.\n",
    "\n",
    "Define the paths to the resampled data"
   ]
  },
  {
   "cell_type": "code",
   "execution_count": 9,
   "metadata": {},
   "outputs": [],
   "source": [
    "# impervious coverage\n",
    "impervious_file = os.path.join(input_ws, \"impervious_50m.txt\")\n",
    "\n",
    "# ssurgo soil coverages\n",
    "awc_file = os.path.join(input_ws, \"awc_50m.txt\")\n",
    "clay_file = os.path.join(input_ws, \"clay_50m.txt\")\n",
    "sand_file = os.path.join(input_ws, \"sand_50m.txt\")\n",
    "ksat_file = os.path.join(input_ws, \"ksat_50m.txt\")\n",
    "\n",
    "# vegetative coverages\n",
    "veg_type_file = os.path.join(input_ws, \"veg_type_50m.txt\")\n",
    "veg_cov_file = os.path.join(input_ws, \"veg_cov_50m.txt\")"
   ]
  },
  {
   "cell_type": "markdown",
   "metadata": {},
   "source": [
    "Load the data as numpy arrays"
   ]
  },
  {
   "cell_type": "code",
   "execution_count": 10,
   "metadata": {},
   "outputs": [],
   "source": [
    "# impervious coverage\n",
    "impervious = np.genfromtxt(impervious_file)\n",
    "\n",
    "# ssurgo soil coverages\n",
    "awc = np.genfromtxt(awc_file)\n",
    "clay = np.genfromtxt(clay_file)\n",
    "sand = np.genfromtxt(sand_file)\n",
    "ksat = np.genfromtxt(ksat_file)\n",
    "\n",
    "# vegetative coverages\n",
    "veg_type = np.genfromtxt(veg_type_file, dtype=int)\n",
    "veg_cov = np.genfromtxt(veg_cov_file, dtype=int)"
   ]
  },
  {
   "cell_type": "markdown",
   "metadata": {},
   "source": [
    "### Working with lookup tables (remap files)\n",
    "\n",
    "Look up table files are used to remap vegetative coverage data and other parameters to values that are compatible with PRMS. For example in the landfire land coverage type raster \"Subalpine Douglas-fir Forest\" is represented by the numeric value 3233. \n",
    "\n",
    "The PRMS cov_type parameter, however, only has 5 options:\n",
    "   - 0 = bare soil\n",
    "   - 1 = grasses\n",
    "   - 2 = shrubs\n",
    "   - 3 = trees\n",
    "   - 4 = coniferous\n",
    "   \n",
    "Look up table files, such as the ones included with pygsflow, allow the user to map vegetation data to the PRMS parameter. In this example \"Subalpine Douglas-fir Forest\" (3233) is remaped to the PRMS cov_type parameter value 4 (confierous).\n",
    "\n",
    "A number of remap files are included with pyGSFLOW for Landfire vegetative cover data in the pyGSFLOW `examples/data/remap_files` directory. The user will need to build their own remap files for other data types, or edit the existing ones. For other common land coverage data types, we welcome community addions and contributions to create a more robust collection of these files.  "
   ]
  },
  {
   "cell_type": "markdown",
   "metadata": {},
   "source": [
    "Define the path to the remap files"
   ]
  },
  {
   "cell_type": "code",
   "execution_count": 11,
   "metadata": {},
   "outputs": [],
   "source": [
    "remap_ws = os.path.join(\"data\", \"remaps\", \"landfire\")\n",
    "\n",
    "# cover type remap file\n",
    "covtype_remap = os.path.join(remap_ws, \"covtype.rmp\")\n",
    "\n",
    "# cover density remap files\n",
    "covden_sum_remap = os.path.join(remap_ws, \"covdensum.rmp\")\n",
    "covden_win_remap = os.path.join(remap_ws, \"covdenwin.rmp\")\n",
    "\n",
    "# snow interception remap file\n",
    "snow_intcp_remap = os.path.join(remap_ws, \"snow_intcp.rmp\")\n",
    "\n",
    "# rain interception remap file\n",
    "srain_intcp_remap = os.path.join(remap_ws, \"srain_intcp.rmp\")\n",
    "\n",
    "# rooting depth remap file\n",
    "root_depth_remap = os.path.join(remap_ws, \"rtdepth.rmp\")"
   ]
  },
  {
   "cell_type": "markdown",
   "metadata": {},
   "source": [
    "### Loading the remap files and working with builder_utils\n",
    "\n",
    "The `builder_utils` module contains a collection of functions that assist in translating raster data to PRMS parameters and pyGSFLOW `ParamerRecord` objects that can be added to an existing `PrmsParameter` object.\n",
    "\n",
    "Let's start with importint the `builder_utils` module"
   ]
  },
  {
   "cell_type": "code",
   "execution_count": 12,
   "metadata": {},
   "outputs": [],
   "source": [
    "from gsflow.builder import builder_utils as bu"
   ]
  },
  {
   "cell_type": "markdown",
   "metadata": {},
   "source": [
    "Now let's load the remap files "
   ]
  },
  {
   "cell_type": "code",
   "execution_count": 13,
   "metadata": {},
   "outputs": [],
   "source": [
    "covtype_lut = bu.build_lut(covtype_remap)\n",
    "covden_sum_lut = bu.build_lut(covden_sum_remap)\n",
    "covden_win_lut = bu.build_lut(covden_win_remap)\n",
    "snow_intcp_lut = bu.build_lut(snow_intcp_remap)\n",
    "srain_intcp_lut = bu.build_lut(srain_intcp_remap)\n",
    "root_depth_lut = bu.build_lut(root_depth_remap)"
   ]
  },
  {
   "cell_type": "markdown",
   "metadata": {},
   "source": [
    "The loaded remap files are stored as a python dictionary"
   ]
  },
  {
   "cell_type": "code",
   "execution_count": 14,
   "metadata": {},
   "outputs": [
    {
     "data": {
      "text/plain": [
       "dict"
      ]
     },
     "execution_count": 14,
     "metadata": {},
     "output_type": "execute_result"
    }
   ],
   "source": [
    "type(covtype_lut)"
   ]
  },
  {
   "cell_type": "markdown",
   "metadata": {},
   "source": [
    "### Building vegetative cover `ParameterRecord` objects\n",
    "\n",
    "The `builder_utils` module contains a number of functions that can be used to build `ParameterRecord` objects that can then be added to an existing `PrmsParameter` object (and later written to file).\n",
    "\n",
    "Here we show the included vegetative cover methods"
   ]
  },
  {
   "cell_type": "code",
   "execution_count": 15,
   "metadata": {},
   "outputs": [
    {
     "name": "stdout",
     "output_type": "stream",
     "text": [
      "\n",
      "####\n",
      "cov_type 10\n",
      "1\n",
      "nhru\n",
      "20562\n",
      "1\n",
      "0\n",
      "0\n",
      "0\n",
      "0.\n",
      ".\n",
      ".\n",
      "####\n",
      "<class 'gsflow.prms.prms_parameter.ParameterRecord'>\n"
     ]
    }
   ],
   "source": [
    "# prms covtype\n",
    "covtype = bu.covtype(veg_type, covtype_lut)\n",
    "\n",
    "# covden_sum (summer cover density)\n",
    "covden_sum = bu.covden_sum(veg_cov, covden_sum_lut)\n",
    "\n",
    "# covden_win (winter cover density)\n",
    "covden_win = bu.covden_win(covtype.values, covden_win_lut)\n",
    "\n",
    "# rad_trncf (short-wave winter radiation coefficient through canopy)\n",
    "rad_trncf = bu.rad_trncf(covden_win.values)\n",
    "\n",
    "# snow_intcp (canopy interception coefficient for snow)\n",
    "snow_intcp = bu.snow_intcp(veg_type, snow_intcp_lut)\n",
    "\n",
    "# srain_intcp (canopy interception coefficient for summer rain)\n",
    "srain_intcp = bu.srain_intcp(veg_type, srain_intcp_lut)\n",
    "\n",
    "# wrain_intcp (canopy interception coefficient for winter rain)\n",
    "wrain_intcp = bu.wrain_intcp(veg_type, snow_intcp_lut)\n",
    "\n",
    "print(covtype)\n",
    "print(type(covtype))"
   ]
  },
  {
   "cell_type": "markdown",
   "metadata": {},
   "source": [
    "### Adding vegetative `ParameterRecord` objects to the `PrmsParameters` object\n",
    "\n",
    "In this section `ParameterRecord` objects are added to the `PrmsParameters` object using the built in `add_record_object` method.\n",
    "\n",
    "The `add_record_object` method has two parameters:\n",
    "   - `record_object` : a `ParameterRecord` object\n",
    "   - `replace` : bool, a flag to replace an existing parameter if it exists. Default is True"
   ]
  },
  {
   "cell_type": "code",
   "execution_count": 16,
   "metadata": {},
   "outputs": [],
   "source": [
    "parameters.add_record_object(covtype)\n",
    "parameters.add_record_object(covden_sum)\n",
    "parameters.add_record_object(covden_win)\n",
    "parameters.add_record_object(rad_trncf)\n",
    "parameters.add_record_object(snow_intcp)\n",
    "parameters.add_record_object(srain_intcp)\n",
    "parameters.add_record_object(wrain_intcp)"
   ]
  },
  {
   "cell_type": "markdown",
   "metadata": {},
   "source": [
    "### Building soil `ParameterRecord` objects\n",
    "\n",
    "The `builder_utils` module contains a number of functions that can be used to build `ParameterRecord` objects that can then be added to an existing `PrmsParameter` object (and later written to file).\n",
    "\n",
    "Here we show the included soil methods"
   ]
  },
  {
   "cell_type": "markdown",
   "metadata": {},
   "source": [
    "#### calculate root depth, aspect, and slope"
   ]
  },
  {
   "cell_type": "code",
   "execution_count": 17,
   "metadata": {},
   "outputs": [],
   "source": [
    "# calculate the root depth from veg_type for use in soil parameters\n",
    "root_depth = bu.root_depth(veg_type, root_depth_lut)\n",
    "\n",
    "hru_aspect = bu.d8_to_hru_aspect(flow_directions)\n",
    "hru_slope = bu.d8_to_hru_slope(\n",
    "    flow_directions,\n",
    "    ml.modelgrid.top,\n",
    "    ml.modelgrid.xcellcenters,\n",
    "    ml.modelgrid.ycellcenters\n",
    ")"
   ]
  },
  {
   "cell_type": "markdown",
   "metadata": {},
   "source": [
    "#### calculate soil parameters\n",
    "\n",
    "For a full description of the soil parameters used in PRMS please see the PRMS input instruction tables "
   ]
  },
  {
   "cell_type": "code",
   "execution_count": 18,
   "metadata": {},
   "outputs": [],
   "source": [
    "cellsize = 50\n",
    "soil_type = bu.soil_type(clay, sand)\n",
    "\n",
    "# soil moisture params\n",
    "soil_moist_max = bu.soil_moist_max(awc, root_depth)\n",
    "soil_moist_init = bu.soil_moist_init(soil_moist_max.values)\n",
    "\n",
    "# soil recharge params\n",
    "soil_rech_max = bu.soil_rech_max(awc, root_depth)\n",
    "soil_rech_init = bu.soil_rech_init(soil_rech_max.values)\n",
    "\n",
    "# gravity reservoir routing coefficients\n",
    "ssr2gw_rate = bu.ssr2gw_rate(ksat, sand, soil_moist_max.values)\n",
    "ssr2gw_sq = bu.ssr2gw_exp(ml.modelgrid.ncpl)\n",
    "\n",
    "# slow flow gravity reservoir routing coefficients\n",
    "slowcoef_lin = bu.slowcoef_lin(ksat, hru_aspect.values, cellsize, cellsize)\n",
    "slowcoef_sq = bu.slowcoef_sq(\n",
    "    ksat, hru_aspect.values, sand, soil_moist_max.values, cellsize, cellsize\n",
    ")"
   ]
  },
  {
   "cell_type": "markdown",
   "metadata": {},
   "source": [
    "### Adding soil `ParameterRecord` objects to the `PrmsParameters` object\n",
    "\n",
    "In this section `ParameterRecord` objects are added to the `PrmsParameters` object using the built in `add_record_object` method.\n",
    "\n",
    "The `add_record_object` method has two parameters:\n",
    "   - `record_object` : a `ParameterRecord` object\n",
    "   - `replace` : bool, a flag to replace an existing parameter if it exists. Default is True"
   ]
  },
  {
   "cell_type": "code",
   "execution_count": 19,
   "metadata": {},
   "outputs": [],
   "source": [
    "parameters.add_record_object(hru_slope)\n",
    "parameters.add_record_object(hru_aspect)\n",
    "parameters.add_record_object(soil_type)\n",
    "parameters.add_record_object(soil_moist_max)\n",
    "parameters.add_record_object(soil_moist_init)\n",
    "parameters.add_record_object(soil_rech_max)\n",
    "parameters.add_record_object(soil_rech_init)\n",
    "parameters.add_record_object(ssr2gw_rate)\n",
    "parameters.add_record_object(ssr2gw_sq)\n",
    "parameters.add_record_object(slowcoef_lin)\n",
    "parameters.add_record_object(slowcoef_sq)"
   ]
  },
  {
   "cell_type": "markdown",
   "metadata": {},
   "source": [
    "### Building impervious coverage `ParameterRecord` objects\n",
    "\n",
    "The `builder_utils` module contains a number of functions that can be used to build `ParameterRecord` objects that can then be added to an existing `PrmsParameter` object (and later written to file).\n",
    "\n",
    "Here we show the included impervious cover methods"
   ]
  },
  {
   "cell_type": "code",
   "execution_count": 20,
   "metadata": {},
   "outputs": [],
   "source": [
    "# build the percent impervious parameter\n",
    "hru_percent_imperv = bu.hru_percent_imperv(impervious)\n",
    "\n",
    "# build the maximum contributing area parameter\n",
    "carea_max = bu.carea_max(impervious)"
   ]
  },
  {
   "cell_type": "markdown",
   "metadata": {},
   "source": [
    "### Adding impervious cover `ParameterRecord` objects to the `PrmsParameters` object\n",
    "\n",
    "In this section `ParameterRecord` objects are added to the `PrmsParameters` object using the built in `add_record_object` method.\n",
    "\n",
    "The `add_record_object` method has two parameters:\n",
    "   - `record_object` : a `ParameterRecord` object\n",
    "   - `replace` : bool, a flag to replace an existing parameter if it exists. Default is True"
   ]
  },
  {
   "cell_type": "code",
   "execution_count": 21,
   "metadata": {},
   "outputs": [],
   "source": [
    "parameters.add_record_object(hru_percent_imperv)\n",
    "parameters.add_record_object(carea_max)"
   ]
  },
  {
   "cell_type": "markdown",
   "metadata": {},
   "source": [
    "## Write the `PrmsParameters` object to File\n",
    "\n",
    "Now that the land cover and soil information has been added to the `PrmsParameters` object, it can be saved to file for use in the next tutorial using the `write()` method. "
   ]
  },
  {
   "cell_type": "code",
   "execution_count": 22,
   "metadata": {},
   "outputs": [],
   "source": [
    "parameters.write(os.path.join(output_ws, \"sagehen_50m_lu_soil.params\"))"
   ]
  },
  {
   "cell_type": "markdown",
   "metadata": {},
   "source": [
    "The next tutorial will cover methods to add PRMS climate information"
   ]
  },
  {
   "cell_type": "code",
   "execution_count": null,
   "metadata": {},
   "outputs": [],
   "source": []
  }
 ],
 "metadata": {
  "kernelspec": {
   "display_name": "Python 3 (ipykernel)",
   "language": "python",
   "name": "python3"
  },
  "language_info": {
   "codemirror_mode": {
    "name": "ipython",
    "version": 3
   },
   "file_extension": ".py",
   "mimetype": "text/x-python",
   "name": "python",
   "nbconvert_exporter": "python",
   "pygments_lexer": "ipython3",
   "version": "3.9.12"
  }
 },
 "nbformat": 4,
 "nbformat_minor": 2
}
